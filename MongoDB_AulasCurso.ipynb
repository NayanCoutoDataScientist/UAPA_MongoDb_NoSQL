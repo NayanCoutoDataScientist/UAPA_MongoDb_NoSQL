{
 "cells": [
  {
   "metadata": {},
   "cell_type": "markdown",
   "source": "# 101. Mongodb Parte I",
   "id": "1870bcc872e0d366"
  },
  {
   "metadata": {},
   "cell_type": "markdown",
   "source": [
    "## Mongo DB\n",
    "\n",
    "- Open Source\n",
    "- Multiplataforma\n",
    "- Escalável\n",
    "- Orientado a Documentos: JSON\n",
    "- Permite documentos aninhados\n",
    "- Indexado\n",
    "- Não tem schma fixo\n",
    "- Não tem integridade referencial\n",
    "\n",
    "## Principais Tipos de Dados\n",
    "\n",
    "- String\n",
    "- Inteiro\n",
    "- Float\n",
    "- Booleano\n",
    "- Double\n",
    "- Array\n",
    "- Timestamp\n",
    "- Object"
   ],
   "id": "63e5639dca8e4f53"
  },
  {
   "metadata": {},
   "cell_type": "markdown",
   "source": "# 102. Mongodb Parte II",
   "id": "a48495ebb88f59c8"
  },
  {
   "metadata": {},
   "cell_type": "markdown",
   "source": [
    "## Criar um Banco de Dados\n",
    "\n",
    "> use dbmidias\n",
    ">> switched to dbmidias"
   ],
   "id": "3e60273281b992f9"
  },
  {
   "metadata": {
    "ExecuteTime": {
     "end_time": "2024-08-04T17:00:26.416111Z",
     "start_time": "2024-08-04T17:00:26.402464Z"
    }
   },
   "cell_type": "code",
   "source": [
    "from pymongo import MongoClient\n",
    "from sympy import pretty_print\n",
    "\n",
    "# Conecte-se ao servidor MongoDB\n",
    "client = MongoClient('mongodb://localhost:27017/')\n",
    "\n",
    "# Selecione o banco de dados\n",
    "db = client['dbmidias']"
   ],
   "id": "d1813521ec6b02f3",
   "outputs": [],
   "execution_count": 5
  },
  {
   "metadata": {},
   "cell_type": "markdown",
   "source": [
    "## Inserir\n",
    "\n",
    "> insert\n",
    ">> Insere um único documento na coleção posts\n",
    ">>> db.posts.insert({nome: \"José\", postagem: \"Bons Produtos!\", data: \"31-06-2019\"})\n",
    "\n",
    "- Acima a coleção é criada implicitamente\n",
    "\n",
    "> Para criar a coleção primeiro:\n",
    ">> db.createCollection(\"posts\")"
   ],
   "id": "d237c5161955de76"
  },
  {
   "metadata": {
    "ExecuteTime": {
     "end_time": "2024-08-04T16:30:45.018167Z",
     "start_time": "2024-08-04T16:30:42.809573Z"
    }
   },
   "cell_type": "code",
   "source": "colecao = db.create_collection(\"posts\")",
   "id": "a11458b084d7fde5",
   "outputs": [
    {
     "ename": "CollectionInvalid",
     "evalue": "collection posts already exists",
     "output_type": "error",
     "traceback": [
      "\u001B[1;31m---------------------------------------------------------------------------\u001B[0m",
      "\u001B[1;31mCollectionInvalid\u001B[0m                         Traceback (most recent call last)",
      "Cell \u001B[1;32mIn[2], line 1\u001B[0m\n\u001B[1;32m----> 1\u001B[0m colecao \u001B[38;5;241m=\u001B[39m db\u001B[38;5;241m.\u001B[39mcreate_collection(\u001B[38;5;124m\"\u001B[39m\u001B[38;5;124mposts\u001B[39m\u001B[38;5;124m\"\u001B[39m)\n",
      "File \u001B[1;32m~\\.conda\\envs\\POO\\Lib\\site-packages\\pymongo\\_csot.py:108\u001B[0m, in \u001B[0;36mapply.<locals>.csot_wrapper\u001B[1;34m(self, *args, **kwargs)\u001B[0m\n\u001B[0;32m    106\u001B[0m         \u001B[38;5;28;01mwith\u001B[39;00m _TimeoutContext(timeout):\n\u001B[0;32m    107\u001B[0m             \u001B[38;5;28;01mreturn\u001B[39;00m func(\u001B[38;5;28mself\u001B[39m, \u001B[38;5;241m*\u001B[39margs, \u001B[38;5;241m*\u001B[39m\u001B[38;5;241m*\u001B[39mkwargs)\n\u001B[1;32m--> 108\u001B[0m \u001B[38;5;28;01mreturn\u001B[39;00m func(\u001B[38;5;28mself\u001B[39m, \u001B[38;5;241m*\u001B[39margs, \u001B[38;5;241m*\u001B[39m\u001B[38;5;241m*\u001B[39mkwargs)\n",
      "File \u001B[1;32m~\\.conda\\envs\\POO\\Lib\\site-packages\\pymongo\\database.py:461\u001B[0m, in \u001B[0;36mDatabase.create_collection\u001B[1;34m(self, name, codec_options, read_preference, write_concern, read_concern, session, check_exists, **kwargs)\u001B[0m\n\u001B[0;32m    453\u001B[0m \u001B[38;5;28;01mwith\u001B[39;00m \u001B[38;5;28mself\u001B[39m\u001B[38;5;241m.\u001B[39m__client\u001B[38;5;241m.\u001B[39m_tmp_session(session) \u001B[38;5;28;01mas\u001B[39;00m s:\n\u001B[0;32m    454\u001B[0m     \u001B[38;5;66;03m# Skip this check in a transaction where listCollections is not\u001B[39;00m\n\u001B[0;32m    455\u001B[0m     \u001B[38;5;66;03m# supported.\u001B[39;00m\n\u001B[0;32m    456\u001B[0m     \u001B[38;5;28;01mif\u001B[39;00m (\n\u001B[0;32m    457\u001B[0m         check_exists\n\u001B[0;32m    458\u001B[0m         \u001B[38;5;129;01mand\u001B[39;00m (\u001B[38;5;129;01mnot\u001B[39;00m s \u001B[38;5;129;01mor\u001B[39;00m \u001B[38;5;129;01mnot\u001B[39;00m s\u001B[38;5;241m.\u001B[39min_transaction)\n\u001B[0;32m    459\u001B[0m         \u001B[38;5;129;01mand\u001B[39;00m name \u001B[38;5;129;01min\u001B[39;00m \u001B[38;5;28mself\u001B[39m\u001B[38;5;241m.\u001B[39mlist_collection_names(\u001B[38;5;28mfilter\u001B[39m\u001B[38;5;241m=\u001B[39m{\u001B[38;5;124m\"\u001B[39m\u001B[38;5;124mname\u001B[39m\u001B[38;5;124m\"\u001B[39m: name}, session\u001B[38;5;241m=\u001B[39ms)\n\u001B[0;32m    460\u001B[0m     ):\n\u001B[1;32m--> 461\u001B[0m         \u001B[38;5;28;01mraise\u001B[39;00m CollectionInvalid(\u001B[38;5;124m\"\u001B[39m\u001B[38;5;124mcollection \u001B[39m\u001B[38;5;132;01m%s\u001B[39;00m\u001B[38;5;124m already exists\u001B[39m\u001B[38;5;124m\"\u001B[39m \u001B[38;5;241m%\u001B[39m name)\n\u001B[0;32m    462\u001B[0m     \u001B[38;5;28;01mreturn\u001B[39;00m Collection(\n\u001B[0;32m    463\u001B[0m         \u001B[38;5;28mself\u001B[39m,\n\u001B[0;32m    464\u001B[0m         name,\n\u001B[1;32m   (...)\u001B[0m\n\u001B[0;32m    471\u001B[0m         \u001B[38;5;241m*\u001B[39m\u001B[38;5;241m*\u001B[39mkwargs,\n\u001B[0;32m    472\u001B[0m     )\n",
      "\u001B[1;31mCollectionInvalid\u001B[0m: collection posts already exists"
     ]
    }
   ],
   "execution_count": 2
  },
  {
   "metadata": {
    "ExecuteTime": {
     "end_time": "2024-08-03T23:21:15.989952Z",
     "start_time": "2024-08-03T23:21:15.976348Z"
    }
   },
   "cell_type": "code",
   "source": "colecao.insert_one({\"nome\": \"José\", \"postagem\": \"Bons Produtos!\", \"data\": \"31-06-2019\"})",
   "id": "cdec651ad05aa076",
   "outputs": [
    {
     "data": {
      "text/plain": [
       "InsertOneResult(ObjectId('66aebb6b12088a9ed2717dd0'), acknowledged=True)"
      ]
     },
     "execution_count": 3,
     "metadata": {},
     "output_type": "execute_result"
    }
   ],
   "execution_count": 3
  },
  {
   "metadata": {},
   "cell_type": "markdown",
   "source": [
    "## Inserir vários documentos\n",
    "\n",
    "> insert\n",
    ">> Insere um documento na coleção posts\n",
    ">>> db.posts.insert([{\"nome\": \"Antonio\", \"postagem\": \"Minha bike quebrou\", \"data\": \"25-05-2019\"}, {\"nome\": \"Maria Silva\", \"postagem\": \"Encontrei tudo que procurava!\", \"data\": \"14-06-2019\"}, {\"nome\": \"Lucas Andrade\", \"postagem\": \"Ótimo atendimento!\", \"data\": \"12-04-2019\"}])"
   ],
   "id": "545b7366cbc3b41c"
  },
  {
   "metadata": {
    "ExecuteTime": {
     "end_time": "2024-08-03T23:55:09.675871Z",
     "start_time": "2024-08-03T23:55:09.669738Z"
    }
   },
   "cell_type": "code",
   "source": [
    "# Insira vários documentos na coleção\n",
    "documentos = [\n",
    "    {\"nome\": \"Antonio\", \"postagem\": \"Minha bike quebrou\", \"data\": \"25-05-2019\"},\n",
    "    {\"nome\": \"Maria Silva\", \"postagem\": \"Encontrei tudo que procurava!\", \"data\": \"14-06-2019\"},\n",
    "    {\"nome\": \"Lucas Andrade\", \"postagem\": \"Ótimo atendimento!\", \"data\": \"12-04-2019\"}\n",
    "]"
   ],
   "id": "aaee1d94b0b11690",
   "outputs": [],
   "execution_count": 5
  },
  {
   "metadata": {
    "ExecuteTime": {
     "end_time": "2024-08-03T23:55:13.396199Z",
     "start_time": "2024-08-03T23:55:13.384959Z"
    }
   },
   "cell_type": "code",
   "source": "colecao.insert_many(documentos)",
   "id": "f90dae47f485aa04",
   "outputs": [
    {
     "data": {
      "text/plain": [
       "InsertManyResult([ObjectId('66aec36112088a9ed2717dd1'), ObjectId('66aec36112088a9ed2717dd2'), ObjectId('66aec36112088a9ed2717dd3')], acknowledged=True)"
      ]
     },
     "execution_count": 6,
     "metadata": {},
     "output_type": "execute_result"
    }
   ],
   "execution_count": 6
  },
  {
   "metadata": {
    "ExecuteTime": {
     "end_time": "2024-08-04T17:00:01.965615Z",
     "start_time": "2024-08-04T17:00:01.948700Z"
    }
   },
   "cell_type": "code",
   "source": [
    "# Consulte os documentos na coleção\n",
    "documentos = list(colecao.find())\n",
    "documentos"
   ],
   "id": "35224f4071e7d00f",
   "outputs": [
    {
     "data": {
      "text/plain": [
       "[{'_id': ObjectId('66aebb6b12088a9ed2717dd0'),\n",
       "  'nome': 'José',\n",
       "  'postagem': 'Bons Produtos!',\n",
       "  'data': '31-06-2019'},\n",
       " {'_id': ObjectId('66aec36112088a9ed2717dd1'),\n",
       "  'nome': 'Antonio',\n",
       "  'postagem': 'Minha bike quebrou',\n",
       "  'data': '25-05-2019'},\n",
       " {'_id': ObjectId('66aec36112088a9ed2717dd2'),\n",
       "  'nome': 'Maria Silva',\n",
       "  'postagem': 'Encontrei tudo que procurava!',\n",
       "  'data': '14-06-2019'},\n",
       " {'_id': ObjectId('66aec36112088a9ed2717dd3'),\n",
       "  'nome': 'Lucas Andrade',\n",
       "  'postagem': 'Ótimo atendimento!',\n",
       "  'data': '12-04-2019'},\n",
       " {'_id': ObjectId('66aec98112088a9ed2717dd4'),\n",
       "  'nome': 'José',\n",
       "  'postagem': 'Loja Suja!',\n",
       "  'data': '30-01-2019'},\n",
       " {'_id': ObjectId('66aecb2f12088a9ed2717dd5'),\n",
       "  'nome': 'José',\n",
       "  'postagem': 'Produtos Caros!',\n",
       "  'data': '12-01-2019'},\n",
       " {'_id': ObjectId('66aecb2f12088a9ed2717dd6'),\n",
       "  'nome': 'José',\n",
       "  'postagem': 'Loja Limpa!',\n",
       "  'data': '14-07-2019'},\n",
       " {'_id': ObjectId('66aecbef12088a9ed2717dd7'),\n",
       "  'nome': 'André',\n",
       "  'postagem': 'Produtos Caros!',\n",
       "  'data': '12-01-2019',\n",
       "  'Idade': 25},\n",
       " {'_id': ObjectId('66aecbef12088a9ed2717dd8'),\n",
       "  'nome': 'Ricardo',\n",
       "  'postagem': 'Produtos Caros',\n",
       "  'data': '14-07-2019',\n",
       "  'Idade': 12},\n",
       " {'_id': ObjectId('66aecc8012088a9ed2717dd9'),\n",
       "  'nome': 'André',\n",
       "  'postagem': 'Produtos Caros!',\n",
       "  'data': '12-01-2019',\n",
       "  'Idade': 25},\n",
       " {'_id': ObjectId('66aecc8012088a9ed2717dda'),\n",
       "  'nome': 'Ricardo',\n",
       "  'postagem': 'Produtos Caros!',\n",
       "  'data': '14-07-2019',\n",
       "  'Idade': 12}]"
      ]
     },
     "execution_count": 4,
     "metadata": {},
     "output_type": "execute_result"
    }
   ],
   "execution_count": 4
  },
  {
   "metadata": {},
   "cell_type": "markdown",
   "source": [
    "## Recuperar Documentos\n",
    "\n",
    "- db.posts.find()\n",
    "- db.posts.find_one()\n",
    "- db.posts.find().pretty()"
   ],
   "id": "e67683813862e1d5"
  },
  {
   "metadata": {
    "ExecuteTime": {
     "end_time": "2024-08-04T00:15:14.136065Z",
     "start_time": "2024-08-04T00:15:14.128793Z"
    }
   },
   "cell_type": "code",
   "source": [
    "# Consulte os documentos na coleção\n",
    "documentos = list(colecao.find())\n",
    "print(documentos)"
   ],
   "id": "2100ebb2ca9fdb9d",
   "outputs": [
    {
     "name": "stdout",
     "output_type": "stream",
     "text": [
      "[{'_id': ObjectId('66aebb6b12088a9ed2717dd0'), 'nome': 'José', 'postagem': 'Bons Produtos!', 'data': '31-06-2019'}, {'_id': ObjectId('66aec36112088a9ed2717dd1'), 'nome': 'Antonio', 'postagem': 'Minha bike quebrou', 'data': '25-05-2019'}, {'_id': ObjectId('66aec36112088a9ed2717dd2'), 'nome': 'Maria Silva', 'postagem': 'Encontrei tudo que procurava!', 'data': '14-06-2019'}, {'_id': ObjectId('66aec36112088a9ed2717dd3'), 'nome': 'Lucas Andrade', 'postagem': 'Ótimo atendimento!', 'data': '12-04-2019'}]\n"
     ]
    }
   ],
   "execution_count": 17
  },
  {
   "metadata": {
    "ExecuteTime": {
     "end_time": "2024-08-04T00:16:47.100730Z",
     "start_time": "2024-08-04T00:16:47.092384Z"
    }
   },
   "cell_type": "code",
   "source": [
    "# Consulte os documentos na coleção com db.posts.find().pretty()\n",
    "from pprint import pprint\n",
    "documentos = list(colecao.find())\n",
    "pprint(documentos)"
   ],
   "id": "cec0186f9f8b2de4",
   "outputs": [
    {
     "name": "stdout",
     "output_type": "stream",
     "text": [
      "[{'_id': ObjectId('66aebb6b12088a9ed2717dd0'),\n",
      "  'data': '31-06-2019',\n",
      "  'nome': 'José',\n",
      "  'postagem': 'Bons Produtos!'},\n",
      " {'_id': ObjectId('66aec36112088a9ed2717dd1'),\n",
      "  'data': '25-05-2019',\n",
      "  'nome': 'Antonio',\n",
      "  'postagem': 'Minha bike quebrou'},\n",
      " {'_id': ObjectId('66aec36112088a9ed2717dd2'),\n",
      "  'data': '14-06-2019',\n",
      "  'nome': 'Maria Silva',\n",
      "  'postagem': 'Encontrei tudo que procurava!'},\n",
      " {'_id': ObjectId('66aec36112088a9ed2717dd3'),\n",
      "  'data': '12-04-2019',\n",
      "  'nome': 'Lucas Andrade',\n",
      "  'postagem': 'Ótimo atendimento!'}]\n"
     ]
    }
   ],
   "execution_count": 19
  },
  {
   "metadata": {
    "ExecuteTime": {
     "end_time": "2024-08-04T00:20:11.004234Z",
     "start_time": "2024-08-04T00:20:10.994809Z"
    }
   },
   "cell_type": "code",
   "source": [
    "from pprint import pprint\n",
    "documentos = list(colecao.find({\"nome\": \"Lucas Andrade\"}))\n",
    "pprint(documentos)"
   ],
   "id": "426a23279e43b24b",
   "outputs": [
    {
     "name": "stdout",
     "output_type": "stream",
     "text": [
      "[{'_id': ObjectId('66aec36112088a9ed2717dd3'),\n",
      "  'data': '12-04-2019',\n",
      "  'nome': 'Lucas Andrade',\n",
      "  'postagem': 'Ótimo atendimento!'}]\n"
     ]
    }
   ],
   "execution_count": 20
  },
  {
   "metadata": {
    "ExecuteTime": {
     "end_time": "2024-08-04T00:21:21.521186Z",
     "start_time": "2024-08-04T00:21:21.512617Z"
    }
   },
   "cell_type": "code",
   "source": "colecao.insert_one({\"nome\": \"José\", \"postagem\": \"Loja Suja!\", \"data\": \"30-01-2019\"})",
   "id": "9a284de0e0aba3b9",
   "outputs": [
    {
     "data": {
      "text/plain": [
       "InsertOneResult(ObjectId('66aec98112088a9ed2717dd4'), acknowledged=True)"
      ]
     },
     "execution_count": 21,
     "metadata": {},
     "output_type": "execute_result"
    }
   ],
   "execution_count": 21
  },
  {
   "metadata": {
    "ExecuteTime": {
     "end_time": "2024-08-04T00:21:44.117314Z",
     "start_time": "2024-08-04T00:21:44.109668Z"
    }
   },
   "cell_type": "code",
   "source": [
    "from pprint import pprint\n",
    "documentos = list(colecao.find({\"nome\": \"José\"}))\n",
    "pprint(documentos)"
   ],
   "id": "c30f7e828f67d335",
   "outputs": [
    {
     "name": "stdout",
     "output_type": "stream",
     "text": [
      "[{'_id': ObjectId('66aebb6b12088a9ed2717dd0'),\n",
      "  'data': '31-06-2019',\n",
      "  'nome': 'José',\n",
      "  'postagem': 'Bons Produtos!'},\n",
      " {'_id': ObjectId('66aec98112088a9ed2717dd4'),\n",
      "  'data': '30-01-2019',\n",
      "  'nome': 'José',\n",
      "  'postagem': 'Loja Suja!'}]\n"
     ]
    }
   ],
   "execution_count": 23
  },
  {
   "metadata": {
    "ExecuteTime": {
     "end_time": "2024-08-04T00:22:08.895634Z",
     "start_time": "2024-08-04T00:22:08.885082Z"
    }
   },
   "cell_type": "code",
   "source": [
    "from pprint import pprint\n",
    "documentos = list(colecao.find({\"nome\": \"José\", \"postagem\": \"Bons Produtos!\"}))\n",
    "pprint(documentos)"
   ],
   "id": "540d909307eff6e5",
   "outputs": [
    {
     "name": "stdout",
     "output_type": "stream",
     "text": [
      "[{'_id': ObjectId('66aebb6b12088a9ed2717dd0'),\n",
      "  'data': '31-06-2019',\n",
      "  'nome': 'José',\n",
      "  'postagem': 'Bons Produtos!'}]\n"
     ]
    }
   ],
   "execution_count": 24
  },
  {
   "metadata": {},
   "cell_type": "markdown",
   "source": [
    "## Operadores\n",
    "\n",
    "- $$\n",
    "- $eq: igual\n",
    "- $gt: maior que\n",
    "- $gte: maior ou igual que\n",
    "- $lt: menor que\n",
    "- $lte: menor ou igual que\n",
    "- $ne: diferente de\n",
    "- $in: contém\n",
    "- $nin: não contém"
   ],
   "id": "ce897deb0f4cd570"
  },
  {
   "metadata": {
    "ExecuteTime": {
     "end_time": "2024-08-04T00:34:08.866538Z",
     "start_time": "2024-08-04T00:34:08.856815Z"
    }
   },
   "cell_type": "code",
   "source": "colecao.insert_many([{\"nome\": \"André\", \"postagem\": \"Produtos Caros!\", \"data\": \"12-01-2019\", \"Idade\": 25}, {\"nome\": \"Ricardo\", \"postagem\": \"Produtos Caros!\", \"data\": \"14-07-2019\", \"Idade\": 12}])",
   "id": "562d3c49c8aebc05",
   "outputs": [
    {
     "data": {
      "text/plain": [
       "InsertManyResult([ObjectId('66aecc8012088a9ed2717dd9'), ObjectId('66aecc8012088a9ed2717dda')], acknowledged=True)"
      ]
     },
     "execution_count": 34,
     "metadata": {},
     "output_type": "execute_result"
    }
   ],
   "execution_count": 34
  },
  {
   "metadata": {},
   "cell_type": "markdown",
   "source": "## Condição And",
   "id": "8de8a4f2473805d7"
  },
  {
   "metadata": {},
   "cell_type": "code",
   "outputs": [],
   "execution_count": null,
   "source": [
    "from pprint import pprint\n",
    "documentos = list(colecao.find({\"postagem\": \"Produtos Caros!\", \"Idade\": {\"$lte\": 12}}))\n",
    "pprint(documentos)"
   ],
   "id": "44ac6e5507f9a73e"
  },
  {
   "metadata": {},
   "cell_type": "markdown",
   "source": "## Condição OR",
   "id": "e15a44e90217fe2"
  },
  {
   "metadata": {
    "ExecuteTime": {
     "end_time": "2024-08-04T16:23:30.316989Z",
     "start_time": "2024-08-04T16:23:26.849494Z"
    }
   },
   "cell_type": "code",
   "outputs": [
    {
     "ename": "NameError",
     "evalue": "name 'colecao' is not defined",
     "output_type": "error",
     "traceback": [
      "\u001B[1;31m---------------------------------------------------------------------------\u001B[0m",
      "\u001B[1;31mNameError\u001B[0m                                 Traceback (most recent call last)",
      "Cell \u001B[1;32mIn[3], line 3\u001B[0m\n\u001B[0;32m      1\u001B[0m \u001B[38;5;66;03m# Condição OR\u001B[39;00m\n\u001B[0;32m      2\u001B[0m \u001B[38;5;28;01mfrom\u001B[39;00m \u001B[38;5;21;01mpprint\u001B[39;00m \u001B[38;5;28;01mimport\u001B[39;00m pprint\n\u001B[1;32m----> 3\u001B[0m documentos \u001B[38;5;241m=\u001B[39m \u001B[38;5;28mlist\u001B[39m(colecao\u001B[38;5;241m.\u001B[39mfind({\u001B[38;5;124m\"\u001B[39m\u001B[38;5;124m$or\u001B[39m\u001B[38;5;124m\"\u001B[39m: [{\u001B[38;5;124m\"\u001B[39m\u001B[38;5;124mnome\u001B[39m\u001B[38;5;124m\"\u001B[39m: \u001B[38;5;124m\"\u001B[39m\u001B[38;5;124mJosé\u001B[39m\u001B[38;5;124m\"\u001B[39m}, {\u001B[38;5;124m\"\u001B[39m\u001B[38;5;124mnome\u001B[39m\u001B[38;5;124m\"\u001B[39m: \u001B[38;5;124m\"\u001B[39m\u001B[38;5;124mAntonio\u001B[39m\u001B[38;5;124m\"\u001B[39m}]}))\n\u001B[0;32m      4\u001B[0m pprint(documentos)\n",
      "\u001B[1;31mNameError\u001B[0m: name 'colecao' is not defined"
     ]
    }
   ],
   "execution_count": 3,
   "source": [
    "from pprint import pprint\n",
    "documentos = list(colecao.find({\"$or\": [{\"nome\": \"José\"}, {\"nome\": \"Antonio\"}]}))\n",
    "pprint(documentos)"
   ],
   "id": "e31a9c192ccecfac"
  },
  {
   "metadata": {},
   "cell_type": "markdown",
   "source": "# 103. Mongodb Parte III",
   "id": "9c4ca882057110a7"
  },
  {
   "metadata": {
    "ExecuteTime": {
     "end_time": "2024-08-04T17:15:52.268279Z",
     "start_time": "2024-08-04T17:15:51.057173Z"
    }
   },
   "cell_type": "code",
   "source": [
    "from pymongo import MongoClient\n",
    "from sympy import pretty_print\n",
    "\n",
    "# Conecte-se ao servidor MongoDB\n",
    "client = MongoClient('mongodb://localhost:27017/')\n",
    "\n",
    "# Selecione o banco de dados\n",
    "db = client['dbmidias']\n",
    "\n",
    "colecao = db.posts"
   ],
   "id": "b4ee2281506f5aa",
   "outputs": [],
   "execution_count": 2
  },
  {
   "metadata": {},
   "cell_type": "markdown",
   "source": "## IN",
   "id": "5ad80f3c4c9cde0b"
  },
  {
   "metadata": {
    "ExecuteTime": {
     "end_time": "2024-08-04T17:30:17.252234Z",
     "start_time": "2024-08-04T17:30:17.241443Z"
    }
   },
   "cell_type": "code",
   "source": [
    "documentos = list(colecao.find({'postagem' : { '$in': [\"Produtos Caros!\", \"Loja Suja!\"]}}))\n",
    "documentos"
   ],
   "id": "30658d23255cba9",
   "outputs": [
    {
     "data": {
      "text/plain": [
       "[{'_id': ObjectId('66aec98112088a9ed2717dd4'),\n",
       "  'nome': 'José',\n",
       "  'postagem': 'Loja Suja!',\n",
       "  'data': '30-01-2019'},\n",
       " {'_id': ObjectId('66aecb2f12088a9ed2717dd5'),\n",
       "  'nome': 'José',\n",
       "  'postagem': 'Produtos Caros!',\n",
       "  'data': '12-01-2019'},\n",
       " {'_id': ObjectId('66aecbef12088a9ed2717dd7'),\n",
       "  'nome': 'André',\n",
       "  'postagem': 'Produtos Caros!',\n",
       "  'data': '12-01-2019',\n",
       "  'Idade': 25},\n",
       " {'_id': ObjectId('66aecc8012088a9ed2717dd9'),\n",
       "  'nome': 'André',\n",
       "  'postagem': 'Produtos Caros!',\n",
       "  'data': '12-01-2019',\n",
       "  'Idade': 25},\n",
       " {'_id': ObjectId('66aecc8012088a9ed2717dda'),\n",
       "  'nome': 'Ricardo',\n",
       "  'postagem': 'Produtos Caros!',\n",
       "  'data': '14-07-2019',\n",
       "  'Idade': 12}]"
      ]
     },
     "execution_count": 16,
     "metadata": {},
     "output_type": "execute_result"
    }
   ],
   "execution_count": 16
  },
  {
   "metadata": {},
   "cell_type": "markdown",
   "source": "## Projeção",
   "id": "7b74099729a94aab"
  },
  {
   "metadata": {
    "ExecuteTime": {
     "end_time": "2024-08-04T17:33:29.336958Z",
     "start_time": "2024-08-04T17:33:29.323272Z"
    }
   },
   "cell_type": "code",
   "source": [
    "documentos = list(db.posts.find({'nome' : \"José\"}, {'_id': 0, 'nome': 0})) # Colunas 0 não são exibidas\n",
    "documentos"
   ],
   "id": "b0e7ff3c9ac2502a",
   "outputs": [
    {
     "data": {
      "text/plain": [
       "[{'postagem': 'Bons Produtos!', 'data': '31-06-2019'},\n",
       " {'postagem': 'Loja Suja!', 'data': '30-01-2019'},\n",
       " {'postagem': 'Produtos Caros!', 'data': '12-01-2019'},\n",
       " {'postagem': 'Loja Limpa!', 'data': '14-07-2019'}]"
      ]
     },
     "execution_count": 19,
     "metadata": {},
     "output_type": "execute_result"
    }
   ],
   "execution_count": 19
  },
  {
   "metadata": {},
   "cell_type": "markdown",
   "source": "## Limite",
   "id": "5c51dcf22db70cb8"
  },
  {
   "metadata": {
    "ExecuteTime": {
     "end_time": "2024-08-04T17:34:03.240219Z",
     "start_time": "2024-08-04T17:34:03.228132Z"
    }
   },
   "cell_type": "code",
   "source": [
    "documentos = list(db.posts.find().limit(2))\n",
    "documentos"
   ],
   "id": "816aef342490abce",
   "outputs": [
    {
     "data": {
      "text/plain": [
       "[{'_id': ObjectId('66aebb6b12088a9ed2717dd0'),\n",
       "  'nome': 'José',\n",
       "  'postagem': 'Bons Produtos!',\n",
       "  'data': '31-06-2019'},\n",
       " {'_id': ObjectId('66aec36112088a9ed2717dd1'),\n",
       "  'nome': 'Antonio',\n",
       "  'postagem': 'Minha bike quebrou',\n",
       "  'data': '25-05-2019'}]"
      ]
     },
     "execution_count": 20,
     "metadata": {},
     "output_type": "execute_result"
    }
   ],
   "execution_count": 20
  },
  {
   "metadata": {},
   "cell_type": "markdown",
   "source": "## Ordernar (1, -1)",
   "id": "f87a679bdbabadf1"
  },
  {
   "metadata": {
    "ExecuteTime": {
     "end_time": "2024-08-04T18:02:13.114901Z",
     "start_time": "2024-08-04T18:02:13.103121Z"
    }
   },
   "cell_type": "code",
   "source": [
    "documentos = list(db.posts.find().sort({'nome':1})) # 1 ordena crescente, -1 decrescente\n",
    "documentos"
   ],
   "id": "486d0c2d1bc447a",
   "outputs": [
    {
     "data": {
      "text/plain": [
       "[{'_id': ObjectId('66aecbef12088a9ed2717dd7'),\n",
       "  'nome': 'André',\n",
       "  'postagem': 'Produtos Caros!',\n",
       "  'data': '12-01-2019',\n",
       "  'Idade': 25},\n",
       " {'_id': ObjectId('66aecc8012088a9ed2717dd9'),\n",
       "  'nome': 'André',\n",
       "  'postagem': 'Produtos Caros!',\n",
       "  'data': '12-01-2019',\n",
       "  'Idade': 25},\n",
       " {'_id': ObjectId('66aec36112088a9ed2717dd1'),\n",
       "  'nome': 'Antonio',\n",
       "  'postagem': 'Minha bike quebrou',\n",
       "  'data': '25-05-2019'},\n",
       " {'_id': ObjectId('66aebb6b12088a9ed2717dd0'),\n",
       "  'nome': 'José',\n",
       "  'postagem': 'Bons Produtos!',\n",
       "  'data': '31-06-2019'},\n",
       " {'_id': ObjectId('66aec98112088a9ed2717dd4'),\n",
       "  'nome': 'José',\n",
       "  'postagem': 'Loja Suja!',\n",
       "  'data': '30-01-2019'},\n",
       " {'_id': ObjectId('66aecb2f12088a9ed2717dd5'),\n",
       "  'nome': 'José',\n",
       "  'postagem': 'Produtos Caros!',\n",
       "  'data': '12-01-2019'},\n",
       " {'_id': ObjectId('66aecb2f12088a9ed2717dd6'),\n",
       "  'nome': 'José',\n",
       "  'postagem': 'Loja Limpa!',\n",
       "  'data': '14-07-2019'},\n",
       " {'_id': ObjectId('66aec36112088a9ed2717dd3'),\n",
       "  'nome': 'Lucas Andrade',\n",
       "  'postagem': 'Ótimo atendimento!',\n",
       "  'data': '12-04-2019'},\n",
       " {'_id': ObjectId('66aec36112088a9ed2717dd2'),\n",
       "  'nome': 'Maria Silva',\n",
       "  'postagem': 'Encontrei tudo que procurava!',\n",
       "  'data': '14-06-2019'},\n",
       " {'_id': ObjectId('66aecbef12088a9ed2717dd8'),\n",
       "  'nome': 'Ricardo',\n",
       "  'postagem': 'Produtos Caros',\n",
       "  'data': '14-07-2019',\n",
       "  'Idade': 12},\n",
       " {'_id': ObjectId('66aecc8012088a9ed2717dda'),\n",
       "  'nome': 'Ricardo',\n",
       "  'postagem': 'Produtos Caros!',\n",
       "  'data': '14-07-2019',\n",
       "  'Idade': 12}]"
      ]
     },
     "execution_count": 28,
     "metadata": {},
     "output_type": "execute_result"
    }
   ],
   "execution_count": 28
  },
  {
   "metadata": {},
   "cell_type": "markdown",
   "source": "## Concatenando Funções",
   "id": "bdd5e8d2b76f760d"
  },
  {
   "metadata": {
    "ExecuteTime": {
     "end_time": "2024-08-04T18:29:58.920795Z",
     "start_time": "2024-08-04T18:29:58.911336Z"
    }
   },
   "cell_type": "code",
   "source": [
    "documentos = list(db.posts.find().sort({'nome' : -1}).limit(2))\n",
    "documentos"
   ],
   "id": "310ad8e6856547bb",
   "outputs": [
    {
     "data": {
      "text/plain": [
       "[{'_id': ObjectId('66aecc8012088a9ed2717dda'),\n",
       "  'nome': 'Ricardo',\n",
       "  'postagem': 'Produtos Caros!',\n",
       "  'data': '14-07-2019',\n",
       "  'Idade': 12},\n",
       " {'_id': ObjectId('66aecbef12088a9ed2717dd8'),\n",
       "  'nome': 'Ricardo',\n",
       "  'postagem': 'Produtos Caros',\n",
       "  'data': '14-07-2019',\n",
       "  'Idade': 12}]"
      ]
     },
     "execution_count": 29,
     "metadata": {},
     "output_type": "execute_result"
    }
   ],
   "execution_count": 29
  },
  {
   "metadata": {},
   "cell_type": "markdown",
   "source": [
    "## Atualizar\n",
    "\n",
    "- update()\n",
    "- update_one()\n",
    "- update_many()\n",
    "- save(): se o documento existe, atualiza, se não, inclui."
   ],
   "id": "f4648f3fc1725203"
  },
  {
   "metadata": {
    "ExecuteTime": {
     "end_time": "2024-08-04T18:32:05.946276Z",
     "start_time": "2024-08-04T18:32:05.936720Z"
    }
   },
   "cell_type": "code",
   "source": [
    "documentos = list(db.posts.find({'nome' : \"André\"}))\n",
    "documentos"
   ],
   "id": "504282646ee2e0d",
   "outputs": [
    {
     "data": {
      "text/plain": [
       "[{'_id': ObjectId('66aecbef12088a9ed2717dd7'),\n",
       "  'nome': 'André',\n",
       "  'postagem': 'Produtos Caros!',\n",
       "  'data': '12-01-2019',\n",
       "  'Idade': 25},\n",
       " {'_id': ObjectId('66aecc8012088a9ed2717dd9'),\n",
       "  'nome': 'André',\n",
       "  'postagem': 'Produtos Caros!',\n",
       "  'data': '12-01-2019',\n",
       "  'Idade': 25}]"
      ]
     },
     "execution_count": 30,
     "metadata": {},
     "output_type": "execute_result"
    }
   ],
   "execution_count": 30
  },
  {
   "metadata": {
    "ExecuteTime": {
     "end_time": "2024-08-04T18:37:51.665686Z",
     "start_time": "2024-08-04T18:37:51.652179Z"
    }
   },
   "cell_type": "code",
   "source": "db.posts.update_one({'nome': \"André\"}, {'$set': {'idade' : 29}})",
   "id": "f561eca24c554035",
   "outputs": [
    {
     "data": {
      "text/plain": [
       "UpdateResult({'n': 1, 'nModified': 1, 'ok': 1.0, 'updatedExisting': True}, acknowledged=True)"
      ]
     },
     "execution_count": 35,
     "metadata": {},
     "output_type": "execute_result"
    }
   ],
   "execution_count": 35
  },
  {
   "metadata": {
    "ExecuteTime": {
     "end_time": "2024-08-04T18:39:19.305986Z",
     "start_time": "2024-08-04T18:39:19.296536Z"
    }
   },
   "cell_type": "code",
   "source": [
    "documentos = list(db.posts.find({'nome' : \"André\"}))\n",
    "documentos"
   ],
   "id": "24eaa999687dfe7c",
   "outputs": [
    {
     "data": {
      "text/plain": [
       "[{'_id': ObjectId('66aecbef12088a9ed2717dd7'),\n",
       "  'nome': 'André',\n",
       "  'postagem': 'Produtos Caros!',\n",
       "  'data': '12-01-2019',\n",
       "  'Idade': 25,\n",
       "  'idade': 29},\n",
       " {'_id': ObjectId('66aecc8012088a9ed2717dd9'),\n",
       "  'nome': 'André',\n",
       "  'postagem': 'Produtos Caros!',\n",
       "  'data': '12-01-2019',\n",
       "  'Idade': 25}]"
      ]
     },
     "execution_count": 36,
     "metadata": {},
     "output_type": "execute_result"
    }
   ],
   "execution_count": 36
  },
  {
   "metadata": {},
   "cell_type": "markdown",
   "source": [
    "## Excluir Documentos\n",
    "\n",
    "- deleteOne(): Exclui um único documento, mesmo que o critério retorne vários\n",
    "- deleteMany(): Exclui todos os documentos conforme critério\n",
    "- remove(): Exclui todos os documentos"
   ],
   "id": "c8b5299b0a09724d"
  },
  {
   "metadata": {
    "ExecuteTime": {
     "end_time": "2024-08-04T18:43:44.216759Z",
     "start_time": "2024-08-04T18:43:44.206898Z"
    }
   },
   "cell_type": "code",
   "source": [
    "documentos = list(db.posts.find({'nome' : \"André\"}))\n",
    "documentos"
   ],
   "id": "6b7881534206a27c",
   "outputs": [
    {
     "data": {
      "text/plain": [
       "[{'_id': ObjectId('66aecbef12088a9ed2717dd7'),\n",
       "  'nome': 'André',\n",
       "  'postagem': 'Produtos Caros!',\n",
       "  'data': '12-01-2019',\n",
       "  'Idade': 25,\n",
       "  'idade': 29},\n",
       " {'_id': ObjectId('66aecc8012088a9ed2717dd9'),\n",
       "  'nome': 'André',\n",
       "  'postagem': 'Produtos Caros!',\n",
       "  'data': '12-01-2019',\n",
       "  'Idade': 25}]"
      ]
     },
     "execution_count": 37,
     "metadata": {},
     "output_type": "execute_result"
    }
   ],
   "execution_count": 37
  },
  {
   "metadata": {
    "ExecuteTime": {
     "end_time": "2024-08-04T18:44:45.106512Z",
     "start_time": "2024-08-04T18:44:45.084740Z"
    }
   },
   "cell_type": "code",
   "source": "db.posts.delete_one({'nome' : \"André\"})",
   "id": "d8344aabdfa2043a",
   "outputs": [
    {
     "data": {
      "text/plain": [
       "DeleteResult({'n': 1, 'ok': 1.0}, acknowledged=True)"
      ]
     },
     "execution_count": 39,
     "metadata": {},
     "output_type": "execute_result"
    }
   ],
   "execution_count": 39
  },
  {
   "metadata": {
    "ExecuteTime": {
     "end_time": "2024-08-04T18:45:01.640476Z",
     "start_time": "2024-08-04T18:45:01.630507Z"
    }
   },
   "cell_type": "code",
   "source": [
    "documentos = list(db.posts.find({'nome' : \"André\"}))\n",
    "documentos"
   ],
   "id": "40712e62d5a08f6",
   "outputs": [
    {
     "data": {
      "text/plain": [
       "[{'_id': ObjectId('66aecc8012088a9ed2717dd9'),\n",
       "  'nome': 'André',\n",
       "  'postagem': 'Produtos Caros!',\n",
       "  'data': '12-01-2019',\n",
       "  'Idade': 25}]"
      ]
     },
     "execution_count": 40,
     "metadata": {},
     "output_type": "execute_result"
    }
   ],
   "execution_count": 40
  },
  {
   "metadata": {},
   "cell_type": "markdown",
   "source": [
    "## Excluir Coleção\n",
    "\n",
    "db.posts.drop()"
   ],
   "id": "94718ce72e1b0b46"
  },
  {
   "metadata": {},
   "cell_type": "markdown",
   "source": [
    "## Outros Comandos Importantes\n",
    "\n",
    "- Verifica o banco que está sendo usado:\n",
    "> db\n",
    "- Lista os bancos existentes:\n",
    "> show dbs\n",
    "- Exclui um banco de dados:\n",
    "> db.dropDatabase()\n",
    "- Exibe as coleções existentes:\n",
    "> show collections"
   ],
   "id": "bc3d668acb13a0ba"
  },
  {
   "metadata": {},
   "cell_type": "markdown",
   "source": [
    "## Backup\n",
    "\n",
    "- mongodump para fazer backup\n",
    "> sudo mkdir /home/coudera/bkpmongo\n",
    "> \n",
    "> sudo mongodump --out /home/cloudera/bkpmongo --db dbmidias\n",
    "> \n",
    "> ls /home/cloudera/bkpmongo/dbmidias/posts.bson posts.metadata.json"
   ],
   "id": "fb730ce4a6fbe3b1"
  },
  {
   "metadata": {},
   "cell_type": "markdown",
   "source": [
    "## Restaurar\n",
    "\n",
    "- mongorestore para restaurar\n",
    "\n",
    "- Loga no mongo shell\n",
    "> use dbmidias\n",
    "> \n",
    "> db.dropDatabase()\n",
    "> \n",
    "> db.posts.find()\n",
    "\n",
    "- Sai do mongo shell\n",
    "> sudo mongorstore /home/cloudera/bkpmongo\n",
    "\n",
    "- Loga no mongo shell para testar restore\n",
    "> use dbmidias"
   ],
   "id": "2131466aa565159d"
  },
  {
   "metadata": {},
   "cell_type": "markdown",
   "source": [
    "## Exportar Dados\n",
    "\n",
    "- sudo mkdir /home/cloudera/exportmongo\n",
    "- sudo mongoexport --db dbmidias --collection posts --out /home/cloudera/exportmongo/posts.json"
   ],
   "id": "e06942037a57cfb8"
  },
  {
   "metadata": {},
   "cell_type": "markdown",
   "source": [
    "Importar Dados\n",
    "- mongoimport --db dbmidias --collection posts --file /home/cloudera/Downloads/posts.json\n",
    "\n",
    "- Baixar arquivo nosql.zip para VM\n",
    "- Arquivo contémn posts.json"
   ],
   "id": "fb8bc5775abc4cfd"
  },
  {
   "metadata": {},
   "cell_type": "markdown",
   "source": "# 104. Integridade Referencial ",
   "id": "11e51ecb3e9f4a11"
  },
  {
   "metadata": {},
   "cell_type": "markdown",
   "source": [
    "NoSQL\n",
    "- Sem integridade referencial\n",
    "- Integridade referencial mais flexível\n",
    "\n",
    "MongoDB\n",
    "- Não existe integridade referencial\n",
    "- Pode-se incluir um link para outro documento, porém:\n",
    "> Não mantém qualquer tipode integridade\n",
    "> \n",
    "> Se outro documento for excluído, o link aponta para \"nada\"\n",
    "- Em caso de necessidade de integridade referencial:\n",
    "> Procurar SGBDS que ofereçam suporte a documentos (JSON) com integridade referencial."
   ],
   "id": "31c0fa9dbe15ec60"
  },
  {
   "metadata": {},
   "cell_type": "markdown",
   "source": [
    "## Embedded Documents\n",
    "\n",
    "{\n",
    "_id: \"1010\",\n",
    "nome: \"Jose\"\n",
    "}\n",
    "\n",
    "{\n",
    "_id: \"1010\",\n",
    "endereco: \"Rua Delta\",\n",
    "cidade: \"Santa Maria\",\n",
    "estado: \"RS\",\n",
    "cep: \"97010300\"\n",
    "}"
   ],
   "id": "e2bd03eede9d5534"
  },
  {
   "metadata": {},
   "cell_type": "markdown",
   "source": [
    "## Document References\n",
    "\n",
    "{\n",
    "_id: \"1010\",\n",
    "nome: \"José\",\n",
    "endereco: [121314]\n",
    "}\n",
    "\n",
    "{\n",
    "_id: \"121314\",\n",
    "endereco: \"Rua Delta\",\n",
    "cidade: \"Santa Maria\",\n",
    "estado: \"RS\",\n",
    "cep: \"97010300\"\n",
    "}"
   ],
   "id": "f60fcfb53d0b827d"
  },
  {
   "metadata": {},
   "cell_type": "code",
   "outputs": [],
   "execution_count": null,
   "source": "",
   "id": "5e27b567cadcd05c"
  }
 ],
 "metadata": {
  "kernelspec": {
   "display_name": "Python 3",
   "language": "python",
   "name": "python3"
  },
  "language_info": {
   "codemirror_mode": {
    "name": "ipython",
    "version": 2
   },
   "file_extension": ".py",
   "mimetype": "text/x-python",
   "name": "python",
   "nbconvert_exporter": "python",
   "pygments_lexer": "ipython2",
   "version": "2.7.6"
  }
 },
 "nbformat": 4,
 "nbformat_minor": 5
}
