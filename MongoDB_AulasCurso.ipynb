{
 "cells": [
  {
   "metadata": {},
   "cell_type": "markdown",
   "source": "# 101. Mongodb Parte I",
   "id": "1870bcc872e0d366"
  },
  {
   "metadata": {},
   "cell_type": "markdown",
   "source": [
    "## Mongo DB\n",
    "\n",
    "- Open Source\n",
    "- Multiplataforma\n",
    "- Escalável\n",
    "- Orientado a Documentos: JSON\n",
    "- Permite documentos aninhados\n",
    "- Indexado\n",
    "- Não tem schma fixo\n",
    "- Não tem integridade referencial\n",
    "\n",
    "## Principais Tipos de Dados\n",
    "\n",
    "- String\n",
    "- Inteiro\n",
    "- Float\n",
    "- Booleano\n",
    "- Double\n",
    "- Array\n",
    "- Timestamp\n",
    "- Object"
   ],
   "id": "63e5639dca8e4f53"
  },
  {
   "metadata": {},
   "cell_type": "markdown",
   "source": "# 102. Mongodb Parte II",
   "id": "a48495ebb88f59c8"
  },
  {
   "metadata": {},
   "cell_type": "markdown",
   "source": [
    "## Criar um Banco de Dados\n",
    "\n",
    "> use dbmidias\n",
    ">> switched to dbmidias"
   ],
   "id": "3e60273281b992f9"
  },
  {
   "metadata": {
    "ExecuteTime": {
     "end_time": "2024-08-03T23:16:09.502016Z",
     "start_time": "2024-08-03T23:16:09.398681Z"
    }
   },
   "cell_type": "code",
   "source": [
    "from pymongo import MongoClient\n",
    "\n",
    "# Conecte-se ao servidor MongoDB\n",
    "client = MongoClient('mongodb://localhost:27017/')\n",
    "\n",
    "# Selecione o banco de dados\n",
    "db = client['dbmidias']"
   ],
   "id": "d1813521ec6b02f3",
   "outputs": [],
   "execution_count": 1
  },
  {
   "metadata": {},
   "cell_type": "markdown",
   "source": [
    "## Inserir\n",
    "\n",
    "> insert\n",
    ">> Insere um único documento na coleção posts\n",
    ">>> db.posts.insert({nome: \"José\", postagem: \"Bons Produtos!\", data: \"31-06-2019\"})\n",
    "\n",
    "- Acima a coleção é criada implicitamente\n",
    "\n",
    "> Para criar a coleção primeiro:\n",
    ">> db.createCollection(\"posts\")"
   ],
   "id": "d237c5161955de76"
  },
  {
   "metadata": {
    "ExecuteTime": {
     "end_time": "2024-08-03T23:21:11.008033Z",
     "start_time": "2024-08-03T23:21:10.971593Z"
    }
   },
   "cell_type": "code",
   "source": "colecao = db.create_collection(\"posts\")",
   "id": "a11458b084d7fde5",
   "outputs": [],
   "execution_count": 2
  },
  {
   "metadata": {
    "ExecuteTime": {
     "end_time": "2024-08-03T23:21:15.989952Z",
     "start_time": "2024-08-03T23:21:15.976348Z"
    }
   },
   "cell_type": "code",
   "source": "colecao.insert_one({\"nome\": \"José\", \"postagem\": \"Bons Produtos!\", \"data\": \"31-06-2019\"})",
   "id": "cdec651ad05aa076",
   "outputs": [
    {
     "data": {
      "text/plain": [
       "InsertOneResult(ObjectId('66aebb6b12088a9ed2717dd0'), acknowledged=True)"
      ]
     },
     "execution_count": 3,
     "metadata": {},
     "output_type": "execute_result"
    }
   ],
   "execution_count": 3
  },
  {
   "metadata": {},
   "cell_type": "code",
   "outputs": [],
   "execution_count": null,
   "source": "",
   "id": "1a9a3b8033e917da"
  }
 ],
 "metadata": {
  "kernelspec": {
   "display_name": "Python 3",
   "language": "python",
   "name": "python3"
  },
  "language_info": {
   "codemirror_mode": {
    "name": "ipython",
    "version": 2
   },
   "file_extension": ".py",
   "mimetype": "text/x-python",
   "name": "python",
   "nbconvert_exporter": "python",
   "pygments_lexer": "ipython2",
   "version": "2.7.6"
  }
 },
 "nbformat": 4,
 "nbformat_minor": 5
}
