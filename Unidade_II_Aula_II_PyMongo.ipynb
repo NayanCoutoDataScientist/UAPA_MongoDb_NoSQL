{
 "cells": [
  {
   "metadata": {},
   "cell_type": "markdown",
   "source": "# Videoaula: CRUD no MongoDB",
   "id": "97b1c6b3ebd35259"
  },
  {
   "metadata": {},
   "cell_type": "markdown",
   "source": [
    "## Instalando o PyMongo\n",
    "\n",
    "- No prompt de comando:\n",
    "> mongo\n",
    "\n",
    "ou\n",
    "\n",
    "> net start MongoDB"
   ],
   "id": "12722a48ce366356"
  },
  {
   "metadata": {},
   "cell_type": "code",
   "source": "!pip install pymongo",
   "id": "e84519c378c160c",
   "outputs": [],
   "execution_count": null
  },
  {
   "metadata": {},
   "cell_type": "code",
   "source": "from pymongo import MongoClient",
   "id": "ec8ba5a35d3cc844",
   "outputs": [],
   "execution_count": null
  },
  {
   "metadata": {},
   "cell_type": "code",
   "source": [
    "# Conectando ao banco\n",
    "client = MongoClient('localhost', 27017)"
   ],
   "id": "ca56d256e3f8fdcb",
   "outputs": [],
   "execution_count": null
  },
  {
   "metadata": {},
   "cell_type": "code",
   "source": [
    "# Objeto de DB\n",
    "# Método 1\n",
    "mydatabase = client['name_of_the_database']"
   ],
   "id": "8f3b5b7fbc8498b3",
   "outputs": [],
   "execution_count": null
  },
  {
   "metadata": {},
   "cell_type": "code",
   "source": [
    "# Método 2:\n",
    "mydatabase = client.name_of_the_database"
   ],
   "id": "a5ff2642bbe432bd",
   "outputs": [],
   "execution_count": null
  },
  {
   "metadata": {},
   "cell_type": "code",
   "source": [
    "# Acessando a coleção\n",
    "# Método 1\n",
    "mycollection = mydatabase['myTable']"
   ],
   "id": "1585a94ec60d468f",
   "outputs": [],
   "execution_count": null
  },
  {
   "metadata": {},
   "cell_type": "code",
   "source": [
    "# Método 2\n",
    "mycollection = mydatabase.myTable"
   ],
   "id": "dd50a92c212edaa8",
   "outputs": [],
   "execution_count": null
  },
  {
   "metadata": {},
   "cell_type": "code",
   "source": [
    "registro = {\n",
    "    'título': 'MongoDB e Python',\n",
    "    'descrição': 'MongoDB não é um banco de dados SQL',\n",
    "    'tags': ['mongodb', 'banco de dados', 'NoSQL'],\n",
    "    'espectadores': 104\n",
    "}"
   ],
   "id": "db62019b703a5057",
   "outputs": [],
   "execution_count": null
  },
  {
   "metadata": {},
   "cell_type": "markdown",
   "source": "_id = número hexadecimal de 12 bits exclusivo de cada documento.",
   "id": "7b0ada63bbb8ea33"
  },
  {
   "metadata": {},
   "cell_type": "code",
   "source": [
    "# Inserir os dados da coleção:\n",
    "rec = mydatabase.myTable.insert_one(registro)"
   ],
   "id": "c812951ace99e6fc",
   "outputs": [],
   "execution_count": null
  },
  {
   "metadata": {},
   "cell_type": "code",
   "source": "rec",
   "id": "e9771971747896e4",
   "outputs": [],
   "execution_count": null
  },
  {
   "metadata": {},
   "cell_type": "code",
   "source": [
    "# Consultando\n",
    "for i in mydatabase.myTable.find({'título': 'MongoDB e Python'}):\n",
    "    print(i)"
   ],
   "id": "44a8b54333419c6f",
   "outputs": [],
   "execution_count": null
  },
  {
   "metadata": {},
   "cell_type": "code",
   "source": "print(mydatabase.myTable.find({'título': 'MongoDB e Python'}).count())",
   "id": "b1423831e273e72",
   "outputs": [],
   "execution_count": null
  },
  {
   "metadata": {},
   "cell_type": "code",
   "source": [
    "cursor = mycollection\n",
    "for i in cursor:\n",
    "    print(i)"
   ],
   "id": "67d499479bfba70b",
   "outputs": [],
   "execution_count": null
  },
  {
   "metadata": {},
   "cell_type": "code",
   "source": "",
   "id": "8c63cca2735291e1",
   "outputs": [],
   "execution_count": null
  }
 ],
 "metadata": {
  "kernelspec": {
   "display_name": "Python 3",
   "language": "python",
   "name": "python3"
  },
  "language_info": {
   "codemirror_mode": {
    "name": "ipython",
    "version": 2
   },
   "file_extension": ".py",
   "mimetype": "text/x-python",
   "name": "python",
   "nbconvert_exporter": "python",
   "pygments_lexer": "ipython2",
   "version": "2.7.6"
  }
 },
 "nbformat": 4,
 "nbformat_minor": 5
}
